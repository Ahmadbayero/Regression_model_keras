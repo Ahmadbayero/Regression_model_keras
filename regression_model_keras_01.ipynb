{
 "cells": [
  {
   "cell_type": "markdown",
   "id": "a96146cb",
   "metadata": {},
   "source": [
    "## A regression model using the Keras library to model data about concrete compressive strength\n",
    "### by Ahmad Salih"
   ]
  },
  {
   "cell_type": "markdown",
   "id": "2797d675",
   "metadata": {},
   "source": [
    "### About the Data\n",
    "\n",
    "<strong>The dataset is about the compressive strength of different samples of concrete based on the volumes of the different ingredients that were used to make them. Ingredients include:</strong>\n",
    "\n",
    "<strong>1. Cement</strong>\n",
    "\n",
    "<strong>2. Blast Furnace Slag</strong>\n",
    "\n",
    "<strong>3. Fly Ash</strong>\n",
    "\n",
    "<strong>4. Water</strong>\n",
    "\n",
    "<strong>5. Superplasticizer</strong>\n",
    "\n",
    "<strong>6. Coarse Aggregate</strong>\n",
    "\n",
    "<strong>7. Fine Aggregate</strong>"
   ]
  },
  {
   "cell_type": "code",
   "execution_count": 4,
   "id": "8aea7396",
   "metadata": {},
   "outputs": [
    {
     "name": "stdout",
     "output_type": "stream",
     "text": [
      "Collecting package metadata (current_repodata.json): done\n",
      "Solving environment: done\n",
      "\n",
      "# All requested packages already installed.\n",
      "\n"
     ]
    }
   ],
   "source": [
    "!conda install pandas"
   ]
  },
  {
   "cell_type": "code",
   "execution_count": 6,
   "id": "b1a0d566",
   "metadata": {},
   "outputs": [],
   "source": [
    "import numpy as np\n",
    "import pandas as pd"
   ]
  },
  {
   "cell_type": "code",
   "execution_count": 7,
   "id": "1257c243",
   "metadata": {},
   "outputs": [
    {
     "name": "stdout",
     "output_type": "stream",
     "text": [
      "(1030, 9)\n"
     ]
    },
    {
     "data": {
      "text/html": [
       "<div>\n",
       "<style scoped>\n",
       "    .dataframe tbody tr th:only-of-type {\n",
       "        vertical-align: middle;\n",
       "    }\n",
       "\n",
       "    .dataframe tbody tr th {\n",
       "        vertical-align: top;\n",
       "    }\n",
       "\n",
       "    .dataframe thead th {\n",
       "        text-align: right;\n",
       "    }\n",
       "</style>\n",
       "<table border=\"1\" class=\"dataframe\">\n",
       "  <thead>\n",
       "    <tr style=\"text-align: right;\">\n",
       "      <th></th>\n",
       "      <th>Cement</th>\n",
       "      <th>Blast Furnace Slag</th>\n",
       "      <th>Fly Ash</th>\n",
       "      <th>Water</th>\n",
       "      <th>Superplasticizer</th>\n",
       "      <th>Coarse Aggregate</th>\n",
       "      <th>Fine Aggregate</th>\n",
       "      <th>Age</th>\n",
       "      <th>Strength</th>\n",
       "    </tr>\n",
       "  </thead>\n",
       "  <tbody>\n",
       "    <tr>\n",
       "      <th>0</th>\n",
       "      <td>540.0</td>\n",
       "      <td>0.0</td>\n",
       "      <td>0.0</td>\n",
       "      <td>162.0</td>\n",
       "      <td>2.5</td>\n",
       "      <td>1040.0</td>\n",
       "      <td>676.0</td>\n",
       "      <td>28</td>\n",
       "      <td>79.99</td>\n",
       "    </tr>\n",
       "    <tr>\n",
       "      <th>1</th>\n",
       "      <td>540.0</td>\n",
       "      <td>0.0</td>\n",
       "      <td>0.0</td>\n",
       "      <td>162.0</td>\n",
       "      <td>2.5</td>\n",
       "      <td>1055.0</td>\n",
       "      <td>676.0</td>\n",
       "      <td>28</td>\n",
       "      <td>61.89</td>\n",
       "    </tr>\n",
       "    <tr>\n",
       "      <th>2</th>\n",
       "      <td>332.5</td>\n",
       "      <td>142.5</td>\n",
       "      <td>0.0</td>\n",
       "      <td>228.0</td>\n",
       "      <td>0.0</td>\n",
       "      <td>932.0</td>\n",
       "      <td>594.0</td>\n",
       "      <td>270</td>\n",
       "      <td>40.27</td>\n",
       "    </tr>\n",
       "    <tr>\n",
       "      <th>3</th>\n",
       "      <td>332.5</td>\n",
       "      <td>142.5</td>\n",
       "      <td>0.0</td>\n",
       "      <td>228.0</td>\n",
       "      <td>0.0</td>\n",
       "      <td>932.0</td>\n",
       "      <td>594.0</td>\n",
       "      <td>365</td>\n",
       "      <td>41.05</td>\n",
       "    </tr>\n",
       "    <tr>\n",
       "      <th>4</th>\n",
       "      <td>198.6</td>\n",
       "      <td>132.4</td>\n",
       "      <td>0.0</td>\n",
       "      <td>192.0</td>\n",
       "      <td>0.0</td>\n",
       "      <td>978.4</td>\n",
       "      <td>825.5</td>\n",
       "      <td>360</td>\n",
       "      <td>44.30</td>\n",
       "    </tr>\n",
       "  </tbody>\n",
       "</table>\n",
       "</div>"
      ],
      "text/plain": [
       "   Cement  Blast Furnace Slag  Fly Ash  Water  Superplasticizer  \\\n",
       "0   540.0                 0.0      0.0  162.0               2.5   \n",
       "1   540.0                 0.0      0.0  162.0               2.5   \n",
       "2   332.5               142.5      0.0  228.0               0.0   \n",
       "3   332.5               142.5      0.0  228.0               0.0   \n",
       "4   198.6               132.4      0.0  192.0               0.0   \n",
       "\n",
       "   Coarse Aggregate  Fine Aggregate  Age  Strength  \n",
       "0            1040.0           676.0   28     79.99  \n",
       "1            1055.0           676.0   28     61.89  \n",
       "2             932.0           594.0  270     40.27  \n",
       "3             932.0           594.0  365     41.05  \n",
       "4             978.4           825.5  360     44.30  "
      ]
     },
     "execution_count": 7,
     "metadata": {},
     "output_type": "execute_result"
    }
   ],
   "source": [
    "## data exploration\n",
    "\n",
    "data = pd.read_csv('concrete_data.csv')\n",
    "print(data.shape)\n",
    "data.head()"
   ]
  },
  {
   "cell_type": "code",
   "execution_count": 8,
   "id": "ed9480e1",
   "metadata": {},
   "outputs": [
    {
     "data": {
      "text/plain": [
       "Cement                0\n",
       "Blast Furnace Slag    0\n",
       "Fly Ash               0\n",
       "Water                 0\n",
       "Superplasticizer      0\n",
       "Coarse Aggregate      0\n",
       "Fine Aggregate        0\n",
       "Age                   0\n",
       "Strength              0\n",
       "dtype: int64"
      ]
     },
     "execution_count": 8,
     "metadata": {},
     "output_type": "execute_result"
    }
   ],
   "source": [
    "data.isnull().sum()"
   ]
  },
  {
   "cell_type": "code",
   "execution_count": 17,
   "id": "10be726b",
   "metadata": {},
   "outputs": [
    {
     "data": {
      "text/html": [
       "<div>\n",
       "<style scoped>\n",
       "    .dataframe tbody tr th:only-of-type {\n",
       "        vertical-align: middle;\n",
       "    }\n",
       "\n",
       "    .dataframe tbody tr th {\n",
       "        vertical-align: top;\n",
       "    }\n",
       "\n",
       "    .dataframe thead th {\n",
       "        text-align: right;\n",
       "    }\n",
       "</style>\n",
       "<table border=\"1\" class=\"dataframe\">\n",
       "  <thead>\n",
       "    <tr style=\"text-align: right;\">\n",
       "      <th></th>\n",
       "      <th>Cement</th>\n",
       "      <th>Blast Furnace Slag</th>\n",
       "      <th>Fly Ash</th>\n",
       "      <th>Water</th>\n",
       "      <th>Superplasticizer</th>\n",
       "      <th>Coarse Aggregate</th>\n",
       "      <th>Fine Aggregate</th>\n",
       "      <th>Age</th>\n",
       "    </tr>\n",
       "  </thead>\n",
       "  <tbody>\n",
       "    <tr>\n",
       "      <th>count</th>\n",
       "      <td>1030.000000</td>\n",
       "      <td>1030.000000</td>\n",
       "      <td>1030.000000</td>\n",
       "      <td>1030.000000</td>\n",
       "      <td>1030.000000</td>\n",
       "      <td>1030.000000</td>\n",
       "      <td>1030.000000</td>\n",
       "      <td>1030.000000</td>\n",
       "    </tr>\n",
       "    <tr>\n",
       "      <th>mean</th>\n",
       "      <td>281.167864</td>\n",
       "      <td>73.895825</td>\n",
       "      <td>54.188350</td>\n",
       "      <td>181.567282</td>\n",
       "      <td>6.204660</td>\n",
       "      <td>972.918932</td>\n",
       "      <td>773.580485</td>\n",
       "      <td>45.662136</td>\n",
       "    </tr>\n",
       "    <tr>\n",
       "      <th>std</th>\n",
       "      <td>104.506364</td>\n",
       "      <td>86.279342</td>\n",
       "      <td>63.997004</td>\n",
       "      <td>21.354219</td>\n",
       "      <td>5.973841</td>\n",
       "      <td>77.753954</td>\n",
       "      <td>80.175980</td>\n",
       "      <td>63.169912</td>\n",
       "    </tr>\n",
       "    <tr>\n",
       "      <th>min</th>\n",
       "      <td>102.000000</td>\n",
       "      <td>0.000000</td>\n",
       "      <td>0.000000</td>\n",
       "      <td>121.800000</td>\n",
       "      <td>0.000000</td>\n",
       "      <td>801.000000</td>\n",
       "      <td>594.000000</td>\n",
       "      <td>1.000000</td>\n",
       "    </tr>\n",
       "    <tr>\n",
       "      <th>25%</th>\n",
       "      <td>192.375000</td>\n",
       "      <td>0.000000</td>\n",
       "      <td>0.000000</td>\n",
       "      <td>164.900000</td>\n",
       "      <td>0.000000</td>\n",
       "      <td>932.000000</td>\n",
       "      <td>730.950000</td>\n",
       "      <td>7.000000</td>\n",
       "    </tr>\n",
       "    <tr>\n",
       "      <th>50%</th>\n",
       "      <td>272.900000</td>\n",
       "      <td>22.000000</td>\n",
       "      <td>0.000000</td>\n",
       "      <td>185.000000</td>\n",
       "      <td>6.400000</td>\n",
       "      <td>968.000000</td>\n",
       "      <td>779.500000</td>\n",
       "      <td>28.000000</td>\n",
       "    </tr>\n",
       "    <tr>\n",
       "      <th>75%</th>\n",
       "      <td>350.000000</td>\n",
       "      <td>142.950000</td>\n",
       "      <td>118.300000</td>\n",
       "      <td>192.000000</td>\n",
       "      <td>10.200000</td>\n",
       "      <td>1029.400000</td>\n",
       "      <td>824.000000</td>\n",
       "      <td>56.000000</td>\n",
       "    </tr>\n",
       "    <tr>\n",
       "      <th>max</th>\n",
       "      <td>540.000000</td>\n",
       "      <td>359.400000</td>\n",
       "      <td>200.100000</td>\n",
       "      <td>247.000000</td>\n",
       "      <td>32.200000</td>\n",
       "      <td>1145.000000</td>\n",
       "      <td>992.600000</td>\n",
       "      <td>365.000000</td>\n",
       "    </tr>\n",
       "  </tbody>\n",
       "</table>\n",
       "</div>"
      ],
      "text/plain": [
       "            Cement  Blast Furnace Slag      Fly Ash        Water  \\\n",
       "count  1030.000000         1030.000000  1030.000000  1030.000000   \n",
       "mean    281.167864           73.895825    54.188350   181.567282   \n",
       "std     104.506364           86.279342    63.997004    21.354219   \n",
       "min     102.000000            0.000000     0.000000   121.800000   \n",
       "25%     192.375000            0.000000     0.000000   164.900000   \n",
       "50%     272.900000           22.000000     0.000000   185.000000   \n",
       "75%     350.000000          142.950000   118.300000   192.000000   \n",
       "max     540.000000          359.400000   200.100000   247.000000   \n",
       "\n",
       "       Superplasticizer  Coarse Aggregate  Fine Aggregate          Age  \n",
       "count       1030.000000       1030.000000     1030.000000  1030.000000  \n",
       "mean           6.204660        972.918932      773.580485    45.662136  \n",
       "std            5.973841         77.753954       80.175980    63.169912  \n",
       "min            0.000000        801.000000      594.000000     1.000000  \n",
       "25%            0.000000        932.000000      730.950000     7.000000  \n",
       "50%            6.400000        968.000000      779.500000    28.000000  \n",
       "75%           10.200000       1029.400000      824.000000    56.000000  \n",
       "max           32.200000       1145.000000      992.600000   365.000000  "
      ]
     },
     "execution_count": 17,
     "metadata": {},
     "output_type": "execute_result"
    }
   ],
   "source": [
    "features = data[data.columns[data.columns != 'Strength']]\n",
    "targets = data['Strength']\n",
    "\n",
    "features.describe()"
   ]
  },
  {
   "cell_type": "markdown",
   "id": "e07d8892",
   "metadata": {},
   "source": [
    "### Part A: Build a baseline model"
   ]
  },
  {
   "cell_type": "code",
   "execution_count": 9,
   "id": "2fa28c0c",
   "metadata": {},
   "outputs": [
    {
     "name": "stderr",
     "output_type": "stream",
     "text": [
      "Using TensorFlow backend.\n"
     ]
    }
   ],
   "source": [
    "import keras"
   ]
  },
  {
   "cell_type": "code",
   "execution_count": 12,
   "id": "ced06f97",
   "metadata": {},
   "outputs": [],
   "source": [
    "from keras.models import Sequential\n",
    "from keras.layers import Dense\n",
    "from sklearn.model_selection import train_test_split"
   ]
  },
  {
   "cell_type": "code",
   "execution_count": 28,
   "id": "20f219c3",
   "metadata": {},
   "outputs": [],
   "source": [
    "from sklearn.metrics import mean_squared_error"
   ]
  },
  {
   "cell_type": "code",
   "execution_count": 20,
   "id": "e7339315",
   "metadata": {},
   "outputs": [
    {
     "data": {
      "text/plain": [
       "((721, 8), (721,))"
      ]
     },
     "execution_count": 20,
     "metadata": {},
     "output_type": "execute_result"
    }
   ],
   "source": [
    "X_train, X_test, y_train, y_test = train_test_split(features, targets, test_size=0.3, random_state=1)\n",
    "\n",
    "X_train.shape, y_train.shape"
   ]
  },
  {
   "cell_type": "code",
   "execution_count": 24,
   "id": "2b0fd97c",
   "metadata": {},
   "outputs": [],
   "source": [
    "def baseline_model(input_shape):\n",
    "    \n",
    "    model = Sequential()\n",
    "    model.add(Dense(10, activation='relu', input_shape=input_shape))\n",
    "    model.add(Dense(1))\n",
    "    \n",
    "    model.compile(optimizer='adam', loss='mean_squared_error')\n",
    "    return model"
   ]
  },
  {
   "cell_type": "code",
   "execution_count": 25,
   "id": "998243e2",
   "metadata": {},
   "outputs": [
    {
     "name": "stdout",
     "output_type": "stream",
     "text": [
      "Epoch 1/50\n",
      "721/721 [==============================] - 0s 493us/step - loss: 63141.0376\n",
      "Epoch 2/50\n",
      "721/721 [==============================] - 0s 38us/step - loss: 46237.2269\n",
      "Epoch 3/50\n",
      "721/721 [==============================] - 0s 37us/step - loss: 31700.7514\n",
      "Epoch 4/50\n",
      "721/721 [==============================] - 0s 39us/step - loss: 18854.6698\n",
      "Epoch 5/50\n",
      "721/721 [==============================] - 0s 38us/step - loss: 9645.1327\n",
      "Epoch 6/50\n",
      "721/721 [==============================] - 0s 34us/step - loss: 4301.8861\n",
      "Epoch 7/50\n",
      "721/721 [==============================] - 0s 34us/step - loss: 2026.9525\n",
      "Epoch 8/50\n",
      "721/721 [==============================] - 0s 34us/step - loss: 1369.3055\n",
      "Epoch 9/50\n",
      "721/721 [==============================] - 0s 35us/step - loss: 1233.9012\n",
      "Epoch 10/50\n",
      "721/721 [==============================] - 0s 38us/step - loss: 1200.5710\n",
      "Epoch 11/50\n",
      "721/721 [==============================] - 0s 35us/step - loss: 1167.7226\n",
      "Epoch 12/50\n",
      "721/721 [==============================] - 0s 34us/step - loss: 1137.3150\n",
      "Epoch 13/50\n",
      "721/721 [==============================] - 0s 35us/step - loss: 1106.3766\n",
      "Epoch 14/50\n",
      "721/721 [==============================] - 0s 35us/step - loss: 1076.5828\n",
      "Epoch 15/50\n",
      "721/721 [==============================] - 0s 36us/step - loss: 1047.1856\n",
      "Epoch 16/50\n",
      "721/721 [==============================] - 0s 34us/step - loss: 1018.1548\n",
      "Epoch 17/50\n",
      "721/721 [==============================] - 0s 35us/step - loss: 990.8815\n",
      "Epoch 18/50\n",
      "721/721 [==============================] - 0s 34us/step - loss: 963.8478\n",
      "Epoch 19/50\n",
      "721/721 [==============================] - 0s 34us/step - loss: 935.7037\n",
      "Epoch 20/50\n",
      "721/721 [==============================] - 0s 34us/step - loss: 908.3018\n",
      "Epoch 21/50\n",
      "721/721 [==============================] - 0s 36us/step - loss: 883.8871\n",
      "Epoch 22/50\n",
      "721/721 [==============================] - 0s 37us/step - loss: 858.6548\n",
      "Epoch 23/50\n",
      "721/721 [==============================] - 0s 38us/step - loss: 835.2319\n",
      "Epoch 24/50\n",
      "721/721 [==============================] - 0s 37us/step - loss: 812.9002\n",
      "Epoch 25/50\n",
      "721/721 [==============================] - 0s 36us/step - loss: 790.5522\n",
      "Epoch 26/50\n",
      "721/721 [==============================] - 0s 37us/step - loss: 769.0096\n",
      "Epoch 27/50\n",
      "721/721 [==============================] - 0s 37us/step - loss: 748.9731\n",
      "Epoch 28/50\n",
      "721/721 [==============================] - 0s 38us/step - loss: 729.2479\n",
      "Epoch 29/50\n",
      "721/721 [==============================] - 0s 37us/step - loss: 709.9922\n",
      "Epoch 30/50\n",
      "721/721 [==============================] - 0s 36us/step - loss: 691.4701\n",
      "Epoch 31/50\n",
      "721/721 [==============================] - 0s 37us/step - loss: 674.9420\n",
      "Epoch 32/50\n",
      "721/721 [==============================] - 0s 36us/step - loss: 656.8387\n",
      "Epoch 33/50\n",
      "721/721 [==============================] - 0s 38us/step - loss: 640.9278\n",
      "Epoch 34/50\n",
      "721/721 [==============================] - 0s 39us/step - loss: 624.7045\n",
      "Epoch 35/50\n",
      "721/721 [==============================] - 0s 38us/step - loss: 609.8789\n",
      "Epoch 36/50\n",
      "721/721 [==============================] - 0s 36us/step - loss: 594.9820\n",
      "Epoch 37/50\n",
      "721/721 [==============================] - 0s 39us/step - loss: 580.9957\n",
      "Epoch 38/50\n",
      "721/721 [==============================] - 0s 40us/step - loss: 567.5783\n",
      "Epoch 39/50\n",
      "721/721 [==============================] - 0s 38us/step - loss: 554.4083\n",
      "Epoch 40/50\n",
      "721/721 [==============================] - 0s 39us/step - loss: 542.6153\n",
      "Epoch 41/50\n",
      "721/721 [==============================] - 0s 39us/step - loss: 529.8745\n",
      "Epoch 42/50\n",
      "721/721 [==============================] - 0s 37us/step - loss: 519.0485\n",
      "Epoch 43/50\n",
      "721/721 [==============================] - 0s 36us/step - loss: 507.3261\n",
      "Epoch 44/50\n",
      "721/721 [==============================] - 0s 38us/step - loss: 496.4643\n",
      "Epoch 45/50\n",
      "721/721 [==============================] - 0s 36us/step - loss: 485.8231\n",
      "Epoch 46/50\n",
      "721/721 [==============================] - 0s 38us/step - loss: 476.4293\n",
      "Epoch 47/50\n",
      "721/721 [==============================] - 0s 39us/step - loss: 469.0384\n",
      "Epoch 48/50\n",
      "721/721 [==============================] - 0s 38us/step - loss: 458.8700\n",
      "Epoch 49/50\n",
      "721/721 [==============================] - 0s 39us/step - loss: 447.4735\n",
      "Epoch 50/50\n",
      "721/721 [==============================] - 0s 38us/step - loss: 438.8813\n"
     ]
    },
    {
     "data": {
      "text/plain": [
       "<keras.callbacks.callbacks.History at 0x7fa1a3b1a828>"
      ]
     },
     "execution_count": 25,
     "metadata": {},
     "output_type": "execute_result"
    }
   ],
   "source": [
    "base_model = baseline_model(input_shape=(X_train.shape[1],))\n",
    "\n",
    "base_model.fit(X_train, y_train, epochs=50, verbose=1)"
   ]
  },
  {
   "cell_type": "code",
   "execution_count": 27,
   "id": "82999859",
   "metadata": {},
   "outputs": [],
   "source": [
    "yhat = base_model.predict(X_test)"
   ]
  },
  {
   "cell_type": "code",
   "execution_count": 31,
   "id": "b8477eaa",
   "metadata": {},
   "outputs": [
    {
     "name": "stdout",
     "output_type": "stream",
     "text": [
      "mean squared error : 419.4632861383443\n"
     ]
    }
   ],
   "source": [
    "# print(yhat[:5])\n",
    "# print(y_test[:5])\n",
    "\n",
    "print('mean squared error : {}'.format(mean_squared_error(y_test, yhat)))"
   ]
  },
  {
   "cell_type": "code",
   "execution_count": 49,
   "id": "585bf76b",
   "metadata": {},
   "outputs": [],
   "source": [
    "ms_errors = np.zeros((50,)) # mean_squared_errors list\n",
    "\n",
    "for i in range(len(ms_errors)):\n",
    "    \n",
    "    X_train,X_test, y_train, y_test = train_test_split(features, targets, test_size=0.3) # random split in each loop\n",
    "    \n",
    "    base_model = baseline_model(input_shape=(X_train.shape[1],))\n",
    "    base_model.fit(X_train, y_train, epochs=50, verbose=0)\n",
    "    \n",
    "    predictions = base_model.predict(X_test)\n",
    "    \n",
    "    ms_errors[i] = mean_squared_error(y_test, predictions)"
   ]
  },
  {
   "cell_type": "code",
   "execution_count": 50,
   "id": "bd7c75dd",
   "metadata": {},
   "outputs": [
    {
     "name": "stdout",
     "output_type": "stream",
     "text": [
      "The mean of the predicted values from the models after 50 iterations with random training and test sets : 368.552\n",
      "=============================================================>\n",
      "The standard deviation of the predicted values from the models after 50 iterations with random training and test sets : 374.345\n"
     ]
    }
   ],
   "source": [
    "print('The mean of the predicted values from the models after 50 iterations with random \\\n",
    "training and test sets : {}'.format(np.around(np.mean(ms_errors), decimals=3)))\n",
    "print('=============================================================>')\n",
    "print('The standard deviation of the predicted values from the models after 50 iterations with random \\\n",
    "training and test sets : {}'.format(np.around(np.std(ms_errors), decimals=3)))"
   ]
  },
  {
   "cell_type": "markdown",
   "id": "17364064",
   "metadata": {},
   "source": [
    "### Part B: Normalize the data"
   ]
  },
  {
   "cell_type": "code",
   "execution_count": 52,
   "id": "32b682aa",
   "metadata": {},
   "outputs": [
    {
     "data": {
      "text/html": [
       "<div>\n",
       "<style scoped>\n",
       "    .dataframe tbody tr th:only-of-type {\n",
       "        vertical-align: middle;\n",
       "    }\n",
       "\n",
       "    .dataframe tbody tr th {\n",
       "        vertical-align: top;\n",
       "    }\n",
       "\n",
       "    .dataframe thead th {\n",
       "        text-align: right;\n",
       "    }\n",
       "</style>\n",
       "<table border=\"1\" class=\"dataframe\">\n",
       "  <thead>\n",
       "    <tr style=\"text-align: right;\">\n",
       "      <th></th>\n",
       "      <th>Cement</th>\n",
       "      <th>Blast Furnace Slag</th>\n",
       "      <th>Fly Ash</th>\n",
       "      <th>Water</th>\n",
       "      <th>Superplasticizer</th>\n",
       "      <th>Coarse Aggregate</th>\n",
       "      <th>Fine Aggregate</th>\n",
       "      <th>Age</th>\n",
       "    </tr>\n",
       "  </thead>\n",
       "  <tbody>\n",
       "    <tr>\n",
       "      <th>0</th>\n",
       "      <td>2.476712</td>\n",
       "      <td>-0.856472</td>\n",
       "      <td>-0.846733</td>\n",
       "      <td>-0.916319</td>\n",
       "      <td>-0.620147</td>\n",
       "      <td>0.862735</td>\n",
       "      <td>-1.217079</td>\n",
       "      <td>-0.279597</td>\n",
       "    </tr>\n",
       "    <tr>\n",
       "      <th>1</th>\n",
       "      <td>2.476712</td>\n",
       "      <td>-0.856472</td>\n",
       "      <td>-0.846733</td>\n",
       "      <td>-0.916319</td>\n",
       "      <td>-0.620147</td>\n",
       "      <td>1.055651</td>\n",
       "      <td>-1.217079</td>\n",
       "      <td>-0.279597</td>\n",
       "    </tr>\n",
       "    <tr>\n",
       "      <th>2</th>\n",
       "      <td>0.491187</td>\n",
       "      <td>0.795140</td>\n",
       "      <td>-0.846733</td>\n",
       "      <td>2.174405</td>\n",
       "      <td>-1.038638</td>\n",
       "      <td>-0.526262</td>\n",
       "      <td>-2.239829</td>\n",
       "      <td>3.551340</td>\n",
       "    </tr>\n",
       "    <tr>\n",
       "      <th>3</th>\n",
       "      <td>0.491187</td>\n",
       "      <td>0.795140</td>\n",
       "      <td>-0.846733</td>\n",
       "      <td>2.174405</td>\n",
       "      <td>-1.038638</td>\n",
       "      <td>-0.526262</td>\n",
       "      <td>-2.239829</td>\n",
       "      <td>5.055221</td>\n",
       "    </tr>\n",
       "    <tr>\n",
       "      <th>4</th>\n",
       "      <td>-0.790075</td>\n",
       "      <td>0.678079</td>\n",
       "      <td>-0.846733</td>\n",
       "      <td>0.488555</td>\n",
       "      <td>-1.038638</td>\n",
       "      <td>0.070492</td>\n",
       "      <td>0.647569</td>\n",
       "      <td>4.976069</td>\n",
       "    </tr>\n",
       "  </tbody>\n",
       "</table>\n",
       "</div>"
      ],
      "text/plain": [
       "     Cement  Blast Furnace Slag   Fly Ash     Water  Superplasticizer  \\\n",
       "0  2.476712           -0.856472 -0.846733 -0.916319         -0.620147   \n",
       "1  2.476712           -0.856472 -0.846733 -0.916319         -0.620147   \n",
       "2  0.491187            0.795140 -0.846733  2.174405         -1.038638   \n",
       "3  0.491187            0.795140 -0.846733  2.174405         -1.038638   \n",
       "4 -0.790075            0.678079 -0.846733  0.488555         -1.038638   \n",
       "\n",
       "   Coarse Aggregate  Fine Aggregate       Age  \n",
       "0          0.862735       -1.217079 -0.279597  \n",
       "1          1.055651       -1.217079 -0.279597  \n",
       "2         -0.526262       -2.239829  3.551340  \n",
       "3         -0.526262       -2.239829  5.055221  \n",
       "4          0.070492        0.647569  4.976069  "
      ]
     },
     "execution_count": 52,
     "metadata": {},
     "output_type": "execute_result"
    }
   ],
   "source": [
    "features_norm = (features - features.mean()) / features.std()\n",
    "features_norm.head()"
   ]
  },
  {
   "cell_type": "code",
   "execution_count": 69,
   "id": "8e8983b3",
   "metadata": {},
   "outputs": [],
   "source": [
    "def get_n_mse(n, epochs, features, targets):\n",
    "    \n",
    "    \"\"\"Get n mean squared errors\n",
    "    \n",
    "    Return: array(length=n) of mean squared errors after n iterations\n",
    "    \"\"\"\n",
    "    \n",
    "    ms_errors = np.zeros((n,)) # mean_squared_errors list\n",
    "\n",
    "    for i in range(len(ms_errors)):\n",
    "\n",
    "        X_train,X_test, y_train, y_test = train_test_split(features, targets, test_size=0.3) # random split in each loop\n",
    "\n",
    "        base_model = baseline_model(input_shape=(X_train.shape[1],)) # predefined model function\n",
    "        base_model.fit(X_train, y_train, epochs=epochs, verbose=0)\n",
    "\n",
    "        predictions = base_model.predict(X_test)\n",
    "\n",
    "        ms_errors[i] = mean_squared_error(y_test, predictions) # get mse and add to list of ms_errors\n",
    "    \n",
    "    return ms_errors;"
   ]
  },
  {
   "cell_type": "code",
   "execution_count": 71,
   "id": "711f1b67",
   "metadata": {},
   "outputs": [],
   "source": [
    "ms_errors_1 = get_n_mse(n=50, epochs=50, features=features_norm, targets=targets)"
   ]
  },
  {
   "cell_type": "code",
   "execution_count": 72,
   "id": "8f37f13c",
   "metadata": {},
   "outputs": [
    {
     "name": "stdout",
     "output_type": "stream",
     "text": [
      "The mean of the predicted values from the models after 50 iterations with random training and test sets : 361.608\n",
      "=============================================================>\n",
      "The standard deviation of the predicted values from the models after 50 iterations with random training and test sets : 88.518\n"
     ]
    }
   ],
   "source": [
    "print('The mean of the predicted values from the models after 50 iterations with random \\\n",
    "training and test sets : {}'.format(np.around(np.mean(ms_errors_1), decimals=3)))\n",
    "print('=============================================================>')\n",
    "print('The standard deviation of the predicted values from the models after 50 iterations with random \\\n",
    "training and test sets : {}'.format(np.around(np.std(ms_errors_1), decimals=3)))"
   ]
  },
  {
   "cell_type": "markdown",
   "id": "19589ec2",
   "metadata": {},
   "source": [
    "### Part C: repeat part B, but increase epochs to 100"
   ]
  },
  {
   "cell_type": "code",
   "execution_count": 63,
   "id": "0239988a",
   "metadata": {},
   "outputs": [],
   "source": [
    "ms_errors_2 = get_n_mse(n=50, epochs=100, features=features_norm, targets=targets)"
   ]
  },
  {
   "cell_type": "code",
   "execution_count": 64,
   "id": "75595689",
   "metadata": {},
   "outputs": [
    {
     "name": "stdout",
     "output_type": "stream",
     "text": [
      "The mean of the predicted values from the models after 50 iterations with random training and test sets : 161.831\n",
      "=============================================================>\n",
      "The standard deviation of the predicted values from the models after 50 iterations with random training and test sets : 16.05\n"
     ]
    }
   ],
   "source": [
    "print('The mean of the predicted values from the models after 50 iterations with random \\\n",
    "training and test sets : {}'.format(np.around(np.mean(ms_errors_2), decimals=3)))\n",
    "print('=============================================================>')\n",
    "print('The standard deviation of the predicted values from the models after 50 iterations with random \\\n",
    "training and test sets : {}'.format(np.around(np.std(ms_errors_2), decimals=3)))"
   ]
  },
  {
   "cell_type": "markdown",
   "id": "c381e4a5",
   "metadata": {},
   "source": [
    "### Part D: increase hidden layers to 3 each with 10 nodes"
   ]
  },
  {
   "cell_type": "code",
   "execution_count": 68,
   "id": "fdd5167e",
   "metadata": {},
   "outputs": [],
   "source": [
    "new_model = Sequential()\n",
    "\n",
    "new_model.add(Dense(10, activation='relu', input_shape=(features.shape[1],)))\n",
    "new_model.add(Dense(10, activation='relu'))\n",
    "new_model.add(Dense(10, activation='relu'))\n",
    "new_model.add(Dense(1))\n",
    "    \n",
    "new_model.compile(optimizer='adam', loss='mean_squared_error')"
   ]
  },
  {
   "cell_type": "code",
   "execution_count": 75,
   "id": "46dd5ace",
   "metadata": {},
   "outputs": [],
   "source": [
    "ms_errors_3 = np.zeros((50,)) # mean_squared_errors list\n",
    "\n",
    "for i in range(len(ms_errors_3)):\n",
    "\n",
    "    X_train,X_test, y_train, y_test = train_test_split(features_norm, targets, test_size=0.3) # random split in each loop\n",
    "\n",
    "    base_model = new_model # predefined model function\n",
    "    base_model.fit(X_train, y_train, epochs=50, verbose=0)\n",
    "\n",
    "    predictions = base_model.predict(X_test)\n",
    "\n",
    "    ms_errors_3[i] = mean_squared_error(y_test, predictions) # get mse and add to list of ms_errors"
   ]
  },
  {
   "cell_type": "code",
   "execution_count": 77,
   "id": "c29d0a9a",
   "metadata": {},
   "outputs": [
    {
     "name": "stdout",
     "output_type": "stream",
     "text": [
      "The mean of the predicted values from the models after 50 iterations with random training and test sets : 15.507\n",
      "=============================================================>\n",
      "The standard deviation of the predicted values from the models after 50 iterations with random training and test sets : 1.707\n"
     ]
    }
   ],
   "source": [
    "print('The mean of the predicted values from the models after 50 iterations with random \\\n",
    "training and test sets : {}'.format(np.around(np.mean(ms_errors_3), decimals=3)))\n",
    "print('=============================================================>')\n",
    "print('The standard deviation of the predicted values from the models after 50 iterations with random \\\n",
    "training and test sets : {}'.format(np.around(np.std(ms_errors_3), decimals=3)))"
   ]
  },
  {
   "cell_type": "code",
   "execution_count": null,
   "id": "66eb98fa",
   "metadata": {},
   "outputs": [],
   "source": []
  }
 ],
 "metadata": {
  "kernelspec": {
   "display_name": "Python 3",
   "language": "python",
   "name": "python3"
  },
  "language_info": {
   "codemirror_mode": {
    "name": "ipython",
    "version": 3
   },
   "file_extension": ".py",
   "mimetype": "text/x-python",
   "name": "python",
   "nbconvert_exporter": "python",
   "pygments_lexer": "ipython3",
   "version": "3.6.13"
  }
 },
 "nbformat": 4,
 "nbformat_minor": 5
}
